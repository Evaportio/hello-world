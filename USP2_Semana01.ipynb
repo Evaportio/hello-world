{
  "nbformat": 4,
  "nbformat_minor": 0,
  "metadata": {
    "kernelspec": {
      "display_name": "Python 3",
      "language": "python",
      "name": "python3"
    },
    "language_info": {
      "codemirror_mode": {
        "name": "ipython",
        "version": 3
      },
      "file_extension": ".py",
      "mimetype": "text/x-python",
      "name": "python",
      "nbconvert_exporter": "python",
      "pygments_lexer": "ipython3",
      "version": "3.7.8"
    },
    "colab": {
      "name": "USP2_Semana01.ipynb",
      "provenance": [],
      "include_colab_link": true
    }
  },
  "cells": [
    {
      "cell_type": "markdown",
      "metadata": {
        "id": "view-in-github",
        "colab_type": "text"
      },
      "source": [
        "<a href=\"https://colab.research.google.com/github/Evaportio/hello-world/blob/main/USP2_Semana01.ipynb\" target=\"_parent\"><img src=\"https://colab.research.google.com/assets/colab-badge.svg\" alt=\"Open In Colab\"/></a>"
      ]
    },
    {
      "cell_type": "code",
      "metadata": {
        "id": "kJgAMcURV2ua",
        "outputId": "845b7c2c-50e7-4dfa-8a05-39eb61f201d8"
      },
      "source": [
        "#Exercício 1: Tamanho da matriz\n",
        "\"\"\"\n",
        "Escreva uma função dimensoes(matriz) que recebe uma matriz como parâmetro e imprime as dimensões da matriz \n",
        "recebida, no formato iXj.\n",
        "\"\"\"\n",
        "\n",
        "def dimensoes(matriz):\n",
        "    if type(matriz[0]) == int or type(matriz[0]) == float:\n",
        "        linhas = 1\n",
        "        colunas = len(matriz)\n",
        "    else:\n",
        "        linhas = len(matriz)\n",
        "        colunas = len(matriz[0])\n",
        "    \n",
        "    return f'{linhas}x{colunas}'\n",
        "\n",
        "matriz = [5,1,3,5]\n",
        "\n",
        "print(dimensoes(matriz))\n"
      ],
      "execution_count": null,
      "outputs": [
        {
          "output_type": "stream",
          "text": [
            "1x4\n"
          ],
          "name": "stdout"
        }
      ]
    },
    {
      "cell_type": "code",
      "metadata": {
        "id": "hX7Md7iqV2uj",
        "outputId": "2d5d4ac7-787a-4411-cac5-2e8b2223db08"
      },
      "source": [
        "#Exercício 2:\n",
        "\"\"\"\n",
        "Escreva a função soma_matrizes(m1, m2) que recebe 2 matrizes e devolve uma matriz que represente sua soma caso as \n",
        "matrizes tenham dimensões iguais. Caso contrário, a função deve devolver False.\n",
        "\"\"\"\n",
        "\n",
        "def soma_matrizes(m1,m2):\n",
        "    if len(m1) == len(m2): #Descobrindo se m1 e m2 são matrizes com o mesmo número de linhas\n",
        "        if type(m1[0])==int or type(m1[0])==float: #Descobrindo o número de colunas da primeira linha da matriz m1\n",
        "            colunas = 1\n",
        "        elif type(m1[0])==str or type(m2[0])==str:\n",
        "            return False\n",
        "        else:\n",
        "            colunas = len(m1[0])\n",
        "        \n",
        "        for i in range(len(m1)): #Conferindo se m1 e m2 possuem o mesmo número de lihas e colunas\n",
        "            if type(m1[i])!=type(m1[0]) or type(m2[i])!=type(m1[0]): #Conferindo se cada item da matriz é igual ao item m1[0]\n",
        "                print(\"A\")\n",
        "                return False\n",
        "        \n",
        "            if len(m1[i])!=colunas or len(m2[i])!=colunas:\n",
        "                print(\"B\")\n",
        "                return False\n",
        "            \n",
        "            for s in range(len(m1[i])):\n",
        "                print(m1[i][s],m2[i][s])\n",
        "                if type(m1[i][s])==str or type(m2[i][s])==str:\n",
        "                    return False\n",
        "      \n",
        "    else:\n",
        "        return False\n",
        "    \n",
        "    matriz_final=[] \n",
        "    for w in range(len(m1)): #Realizando a soma das matrizes\n",
        "        matriz_parcial=[]\n",
        "        for j in range(len(m1[w])):\n",
        "            matriz_parcial.append(m1[w][j]+m2[w][j])\n",
        "        matriz_final.append(matriz_parcial)\n",
        "    \n",
        "    return matriz_final\n",
        "\n",
        "ma1 = [[1,2,3],[1,1,2]]\n",
        "ma2 = [[1,2,3],2]\n",
        "\n",
        "print(soma_matrizes(ma1,ma2))"
      ],
      "execution_count": null,
      "outputs": [
        {
          "output_type": "stream",
          "text": [
            "1 1\n",
            "2 2\n",
            "3 3\n",
            "A\n",
            "False\n"
          ],
          "name": "stdout"
        }
      ]
    },
    {
      "cell_type": "code",
      "metadata": {
        "colab": {
          "base_uri": "https://localhost:8080/"
        },
        "id": "OJFcwmaFV2uk",
        "outputId": "007dac99-255f-44a7-b12b-c1e6847275fd"
      },
      "source": [
        "#EXERCÍCIOS ADICIONAIS 1:\r\n",
        "\"\"\"\r\n",
        "Como proposto na primeira vídeo-aula da semana, escreva uma função imprime_matriz(matriz), que recebe uma matriz como parâmetro e imprime a \r\n",
        "matriz, linha por linha. Note que NÃO se deve imprimir espaços após o último elemento de cada linha!\r\n",
        "\r\n",
        "Dica: lembre da primeira parte do curso, na semana 7! A função \"print\" em geral adiciona uma quebra de linha ao final, mas você pode \r\n",
        "controlar isso usando o argumento opcional \"end\".\r\n",
        "\"\"\"\r\n",
        "\r\n",
        "def imprime_matriz(matriz):\r\n",
        "    for i in range(len(matriz)):\r\n",
        "        print(matriz[i], end=\"\\n\")\r\n",
        "        \r\n",
        "matriz = [[1,2], [2,3], [3,4]]\r\n",
        "\r\n",
        "print(imprime_matriz(matriz))"
      ],
      "execution_count": 1,
      "outputs": [
        {
          "output_type": "stream",
          "text": [
            "[1, 2]\n",
            "[2, 3]\n",
            "[3, 4]\n",
            "None\n"
          ],
          "name": "stdout"
        }
      ]
    },
    {
      "cell_type": "code",
      "metadata": {
        "colab": {
          "base_uri": "https://localhost:8080/"
        },
        "id": "7oX3xySVV9kU",
        "outputId": "65fae59a-b360-4232-a7bd-6298a43681d3"
      },
      "source": [
        "#EXERCÍCIOS ADICIONAIS 2: MATRIZES MULTIPLICÁVEIS\r\n",
        "\"\"\"\r\n",
        "Duas matrizes são multiplicáveis se o número de colunas da primeira é igual ao número de linhas da segunda. Escreva a função \r\n",
        "sao_multiplicaveis(m1, m2) que recebe duas matrizes como parâmetro e devolve True se as matrizes forem multiplicavéis (na ordem dada) e \r\n",
        "False caso contrário.\r\n",
        "\"\"\"\r\n",
        "\r\n",
        "def sao_multiplicaveis(m1,m2):\r\n",
        "    colunas_m1 = len(m1[0])\r\n",
        "    linhas_m2 = len(m2)\r\n",
        "    \r\n",
        "    return colunas_m1 == linhas_m2\r\n",
        "\r\n",
        "m1 = [[1], [2], [3]]\r\n",
        "m2 = [[1, 2, 3]]\r\n",
        "\r\n",
        "print(sao_multiplicaveis(m1,m2))"
      ],
      "execution_count": 2,
      "outputs": [
        {
          "output_type": "stream",
          "text": [
            "True\n"
          ],
          "name": "stdout"
        }
      ]
    }
  ]
}