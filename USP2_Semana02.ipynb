{
  "nbformat": 4,
  "nbformat_minor": 0,
  "metadata": {
    "colab": {
      "name": "Untitled1.ipynb",
      "provenance": [],
      "authorship_tag": "ABX9TyP0EupgyGJvmTtTho/z3cFL",
      "include_colab_link": true
    },
    "kernelspec": {
      "name": "python3",
      "display_name": "Python 3"
    }
  },
  "cells": [
    {
      "cell_type": "markdown",
      "metadata": {
        "id": "view-in-github",
        "colab_type": "text"
      },
      "source": [
        "<a href=\"https://colab.research.google.com/github/Evaportio/hello-world/blob/main/USP2_Semana02.ipynb\" target=\"_parent\"><img src=\"https://colab.research.google.com/assets/colab-badge.svg\" alt=\"Open In Colab\"/></a>"
      ]
    },
    {
      "cell_type": "code",
      "metadata": {
        "colab": {
          "base_uri": "https://localhost:8080/"
        },
        "id": "ZXp4gdkrXhGI",
        "outputId": "39022fcc-a0ca-4061-b8b3-ac11f21398b7"
      },
      "source": [
        "#EXERCÍCIO 1: LETRAS MAIÚSCULAS\r\n",
        "\r\n",
        "def maiusculas(texto):\r\n",
        "  referencia=[]\r\n",
        "  for i in range(65,91):\r\n",
        "    referencia.append(i)\r\n",
        "  \r\n",
        "  maiusculas=\"\"\r\n",
        "  for j in range(len(texto)):\r\n",
        "    if ord(texto[j]) in referencia:\r\n",
        "      maiusculas=maiusculas+texto[j]\r\n",
        "  return maiusculas\r\n",
        "\r\n",
        "b='Teste UmDoIsTrEs!'\r\n",
        "print(maiusculas(b))\r\n",
        "\r\n",
        "\r\n",
        "\r\n",
        "\r\n"
      ],
      "execution_count": 13,
      "outputs": [
        {
          "output_type": "stream",
          "text": [
            "TSCSSPORRA\n"
          ],
          "name": "stdout"
        }
      ]
    },
    {
      "cell_type": "code",
      "metadata": {
        "colab": {
          "base_uri": "https://localhost:8080/"
        },
        "id": "E4t14xHd5bVe",
        "outputId": "57bfa140-b679-4276-f466-45bf1e8c6247"
      },
      "source": [
        "#EXERCÍCIO 2: MENOR NOME\r\n",
        "\r\n",
        "def menor_nome(nomes):\r\n",
        "  menor = nomes[0].casefold().capitalize()\r\n",
        "  for i in range(len(nomes)):\r\n",
        "    if len(nomes[i].lstrip(\" \").rstrip(\" \"))<len(menor):\r\n",
        "      menor=nomes[i].lstrip(\" \").rstrip(\" \").capitalize()\r\n",
        "  return menor\r\n",
        "\r\n",
        "print()\r\n",
        "print(menor_nome(['maria','josé','PAULO','Catarina'])) #Resposta esperada: José\r\n",
        "print(menor_nome(['maria',' josé ','  PAULO  ','Catarina   '])) #Resposta esperada: José\r\n",
        "print(menor_nome(['Bárbara','JOSÉ  ','Bill'])) #Resposta esperada: José"
      ],
      "execution_count": 24,
      "outputs": [
        {
          "output_type": "stream",
          "text": [
            "\n",
            "José\n",
            "José\n",
            "José\n"
          ],
          "name": "stdout"
        }
      ]
    },
    {
      "cell_type": "code",
      "metadata": {
        "colab": {
          "base_uri": "https://localhost:8080/"
        },
        "id": "nDJv9SMLAVyS",
        "outputId": "47cc55a9-3027-48e1-d983-047fce886eae"
      },
      "source": [
        "#EXERCÍCIO ADICIONAL 1: CONTANDO VOGAIS OU CONSOANTES\r\n",
        "\r\n",
        "def conta_letras(frase, contar=\"vogais\"):\r\n",
        "  contador_vogais=0\r\n",
        "  contador_consoantes=0\r\n",
        "  for i in range(len(frase)):\r\n",
        "    if frase[i] in \"aeiou\":\r\n",
        "      contador_vogais+=1\r\n",
        "    else:\r\n",
        "      contador_consoantes+=1  \r\n",
        "\r\n",
        "  if contar==\"vogais\":\r\n",
        "    return contador_vogais\r\n",
        "  else:\r\n",
        "    return contador_consoantes\r\n",
        "\r\n",
        "print(conta_letras('programamos em python')) #Resposta esperada: 6\r\n",
        "print(conta_letras('programamos em python',\"vogais\")) #Resposta esperada: 6\r\n",
        "print(conta_letras('programamos em python',\"consoantes\")) #Resposta esperada: 13   \r\n"
      ],
      "execution_count": 28,
      "outputs": [
        {
          "output_type": "stream",
          "text": [
            "6\n",
            "6\n",
            "15\n"
          ],
          "name": "stdout"
        }
      ]
    },
    {
      "cell_type": "code",
      "metadata": {
        "colab": {
          "base_uri": "https://localhost:8080/"
        },
        "id": "npeBNWXNDbCI",
        "outputId": "22f8a0f0-9d53-47f0-9a50-3678469bf19c"
      },
      "source": [
        "#EXERCÍCIO ADICIONAL 2: ORDEM LEXICOGRÁFICA\r\n",
        "\r\n",
        "def primeiro_lex(lista_string):\r\n",
        "  resultado=lista_string[0]\r\n",
        "  for i in range(len(lista_string)):\r\n",
        "    if ord(lista_string[i][0])<ord(resultado[0]):\r\n",
        "      resultado = lista_string[i]\r\n",
        "\r\n",
        "  return resultado\r\n",
        "  \r\n",
        "print(primeiro_lex(['olá','A','a','casa'])) #Resposta esperada: 'A'\r\n",
        "print()\r\n",
        "print(primeiro_lex(['AAAAAA','b'])) #Resposta esperada: 'AAAAAA'\r\n",
        "\r\n"
      ],
      "execution_count": 54,
      "outputs": [
        {
          "output_type": "stream",
          "text": [
            "A\n",
            "\n",
            "AAAAAA\n"
          ],
          "name": "stdout"
        }
      ]
    }
  ]
}